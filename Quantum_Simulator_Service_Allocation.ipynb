{
 "cells": [
  {
   "cell_type": "markdown",
   "metadata": {},
   "source": [
    "# Quantum Simulator: Service Allocation\n",
    "\n",
    "This solution identifies a set of optimal trajectories that complete all the jobs on a given widget while minimizing the congestion across all resources. It helps in reducing operational cost and turnaround time in production processes. The solution utilizes quantum computing simulator for optimization, making it scalable and robust.\n",
    "### Prerequisite\n",
    "\n",
    "The kernel comes pre-installed with the required packages. Else ensure to have the following Python Packages in your environment at minimum:\n",
    "\n",
    "    - scipy\n",
    "    - numpy\n",
    "    - pandas\n",
    "    - qubovert\n",
    "\n",
    " ### Contents\n",
    "\n",
    "1. [Input Data](#Input-Format)\n",
    "1. [Creating Model](#Creating-Model)\n",
    "1. [Batch Transform](#Batch-Transform)\n",
    "1. [Output](#Output)\n",
    "1. [Real Time Transform](#Invoking-through-Endpoint)"
   ]
  },
  {
   "cell_type": "markdown",
   "metadata": {},
   "source": [
    "### Input Format\n",
    "* The input should be a zipped file which contains two csv. Name of all the csv files should match with the name of csv files in sample data which are as follows\n",
    "* resource_data.csv : This file will contain columns like path, machin_id and all the resources columns which are in the system, all these resource columns provides information for flow details for each available path, ensure that names of the column should be same and exactly in the same order as in sample data set, cloumns of resource details can change according to the available number of resources in the system.\n",
    "* resources_constraint.csv : This file will contain columns like Path, and different columns for each machine id, this file provides information of all the available paths for each machine, see the sample data for format.\n",
    "\n",
    "<b> Note: \n",
    "    Input file from sage_maker should be of the form csv which should be zipped .<br>Ensure Content-Type is 'application/zip'\n",
    "</b>"
   ]
  },
  {
   "cell_type": "markdown",
   "metadata": {},
   "source": [
    "### Input instructions\n",
    " \n",
    "• Supported content types: ` application/zip`\n",
    "\n",
    "•  Input file should be of csv type and zipped, also all the csv files should be in the format mentioned in Input Format section\n",
    "\n",
    "### Output interpretation\n",
    "\n",
    "\n",
    "• Output file will contain the result in dictionary format\n",
    "\n",
    "• Each key-value pair will give information of path to follow for each machine\n"
   ]
  },
  {
   "cell_type": "markdown",
   "metadata": {},
   "source": [
    "## Importing libraries for runtime"
   ]
  },
  {
   "cell_type": "code",
   "execution_count": 1,
   "metadata": {},
   "outputs": [],
   "source": [
    "import pandas as pd\n",
    "import boto3\n",
    "import re"
   ]
  },
  {
   "cell_type": "markdown",
   "metadata": {},
   "source": [
    "## Creating Model\n"
   ]
  },
  {
   "cell_type": "code",
   "execution_count": 2,
   "metadata": {},
   "outputs": [],
   "source": [
    "model_package_arn = 'put your arn here'"
   ]
  },
  {
   "cell_type": "code",
   "execution_count": 3,
   "metadata": {},
   "outputs": [],
   "source": [
    "from sagemaker import ModelPackage\n",
    "import sagemaker as sage\n",
    "from sagemaker import get_execution_role\n",
    "\n",
    "role = get_execution_role()\n",
    "sagemaker_session = sage.Session()"
   ]
  },
  {
   "cell_type": "code",
   "execution_count": 4,
   "metadata": {},
   "outputs": [
    {
     "name": "stderr",
     "output_type": "stream",
     "text": [
      "Parameter image will be renamed to image_uri in SageMaker Python SDK v2.\n"
     ]
    }
   ],
   "source": [
    "model = ModelPackage(model_package_arn=model_package_arn,\n",
    "                    role = role,\n",
    "                    sagemaker_session = sagemaker_session)"
   ]
  },
  {
   "cell_type": "markdown",
   "metadata": {},
   "source": [
    "## Batch Transform\n",
    "\n",
    "Now that model is ready, we can deploy the model and obtain solutions.\n",
    "\n",
    "The output will generate results in dictionary format.\n"
   ]
  },
  {
   "cell_type": "code",
   "execution_count": null,
   "metadata": {},
   "outputs": [],
   "source": [
    "import json \n",
    "import uuid\n",
    "\n",
    "\n",
    "transformer = model.transformer(1, 'ml.m5.xlarge')\n",
    "transformer.transform('put s3 bucket path of input file', content_type='application/zip')\n",
    "transformer.wait()\n",
    "#transformer.output_path\n",
    "print(\"Batch Transform complete\")\n",
    "bucketFolder = transformer.output_path.rsplit('/')[3]"
   ]
  },
  {
   "cell_type": "code",
   "execution_count": 6,
   "metadata": {},
   "outputs": [
    {
     "name": "stdout",
     "output_type": "stream",
     "text": [
      "Output file loaded from bucket\n"
     ]
    }
   ],
   "source": [
    "#print(s3bucket,s3prefix)\n",
    "s3_conn = boto3.client(\"s3\")\n",
    "bucket_name=\"put your bucket name here\"\"\n",
    "with open('optimum_route.json', 'wb') as f:\n",
    "    s3_conn.download_fileobj(bucket_name, bucketFolder+'/Input.zip.out', f)\n",
    "    print(\"Output file loaded from bucket\")"
   ]
  },
  {
   "cell_type": "markdown",
   "metadata": {},
   "source": [
    "## Output\n",
    "\n",
    "The processed output is of dictionary format giving information like which path to follow for each package\n",
    "    "
   ]
  },
  {
   "cell_type": "code",
   "execution_count": 7,
   "metadata": {},
   "outputs": [
    {
     "name": "stdout",
     "output_type": "stream",
     "text": [
      "{\"x(0)\": \"path one for machine_ 1\", \"x(3)\": \"path four for machine_ 2\", \"x(6)\": \"path seven for machine_ 3\"}\n"
     ]
    }
   ],
   "source": [
    "f = open('optimum_route.json', 'r')\n",
    "file_contents = f.read()\n",
    "print (file_contents)\n",
    "f.close()"
   ]
  },
  {
   "cell_type": "markdown",
   "metadata": {},
   "source": [
    "## Invoking through Endpoint"
   ]
  },
  {
   "cell_type": "code",
   "execution_count": 8,
   "metadata": {},
   "outputs": [],
   "source": [
    "import json \n",
    "import uuid\n",
    "from sagemaker import ModelPackage\n",
    "import sagemaker as sage\n",
    "\n",
    "from sagemaker import get_execution_role\n",
    "from sagemaker import ModelPackage\n",
    "import boto3\n",
    "from IPython.display import Image\n",
    "from PIL import Image as ImageEdit\n",
    "\n",
    "role = get_execution_role()\n",
    "\n",
    "sagemaker_session = sage.Session()\n",
    "bucket=sagemaker_session.default_bucket()"
   ]
  },
  {
   "cell_type": "code",
   "execution_count": 9,
   "metadata": {},
   "outputs": [],
   "source": [
    "content_type='application/zip'\n",
    "model_name='process-optimizer'\n",
    "real_time_inference_instance_type='ml.m5.xlarge'"
   ]
  },
  {
   "cell_type": "code",
   "execution_count": 10,
   "metadata": {},
   "outputs": [],
   "source": [
    "model_package_arn = 'put your arn here'"
   ]
  },
  {
   "cell_type": "code",
   "execution_count": 11,
   "metadata": {},
   "outputs": [],
   "source": [
    "from sagemaker import ModelPackage\n",
    "import sagemaker as sage\n",
    "from sagemaker import get_execution_role\n",
    "\n",
    "role = get_execution_role()\n",
    "sagemaker_session = sage.Session()"
   ]
  },
  {
   "cell_type": "code",
   "execution_count": 12,
   "metadata": {},
   "outputs": [
    {
     "name": "stderr",
     "output_type": "stream",
     "text": [
      "Parameter image will be renamed to image_uri in SageMaker Python SDK v2.\n"
     ]
    }
   ],
   "source": [
    "#Define predictor wrapper class\n",
    "def predict_wrapper(endpoint, session):\n",
    "    return sage.RealTimePredictor(endpoint, session,content_type=content_type)\n",
    "#create a deployable model from the model package.\n",
    "model = ModelPackage(role=role,\n",
    "                    model_package_arn=model_package_arn,\n",
    "                    sagemaker_session=sagemaker_session,\n",
    "                    predictor_cls=predict_wrapper)"
   ]
  },
  {
   "cell_type": "code",
   "execution_count": 13,
   "metadata": {},
   "outputs": [
    {
     "name": "stdout",
     "output_type": "stream",
     "text": [
      "-----------!"
     ]
    }
   ],
   "source": [
    "predictor = model.deploy(1, real_time_inference_instance_type, endpoint_name=model_name)"
   ]
  },
  {
   "cell_type": "markdown",
   "metadata": {},
   "source": [
    "### Invoking endpoint result through CLI command"
   ]
  },
  {
   "cell_type": "code",
   "execution_count": 14,
   "metadata": {},
   "outputs": [],
   "source": [
    "file_name=\"Input.zip\""
   ]
  },
  {
   "cell_type": "code",
   "execution_count": 15,
   "metadata": {},
   "outputs": [
    {
     "name": "stdout",
     "output_type": "stream",
     "text": [
      "{\r\n",
      "    \"ContentType\": \"application/json\",\r\n",
      "    \"InvokedProductionVariant\": \"AllTraffic\"\r\n",
      "}\r\n"
     ]
    }
   ],
   "source": [
    "!aws sagemaker-runtime invoke-endpoint --endpoint-name $model_name --body fileb://$file_name --content-type 'application/zip' --region us-east-2 output.json"
   ]
  },
  {
   "cell_type": "code",
   "execution_count": 16,
   "metadata": {},
   "outputs": [
    {
     "name": "stdout",
     "output_type": "stream",
     "text": [
      "{\"x(0)\": \"path one for machine_ 1\", \"x(3)\": \"path four for machine_ 2\", \"x(6)\": \"path seven for machine_ 3\"}\n"
     ]
    }
   ],
   "source": [
    "f = open('output.json', 'r')\n",
    "file_contents = f.read()\n",
    "print (file_contents)\n",
    "f.close()"
   ]
  },
  {
   "cell_type": "code",
   "execution_count": 18,
   "metadata": {},
   "outputs": [
    {
     "data": {
      "text/plain": [
       "<bound method RealTimePredictor.delete_endpoint of <sagemaker.predictor.RealTimePredictor object at 0x7f5d4f428390>>"
      ]
     },
     "execution_count": 18,
     "metadata": {},
     "output_type": "execute_result"
    }
   ],
   "source": [
    "predictor.delete_endpoint"
   ]
  }
 ],
 "metadata": {
  "kernelspec": {
   "display_name": "conda_python3",
   "language": "python",
   "name": "conda_python3"
  },
  "language_info": {
   "codemirror_mode": {
    "name": "ipython",
    "version": 3
   },
   "file_extension": ".py",
   "mimetype": "text/x-python",
   "name": "python",
   "nbconvert_exporter": "python",
   "pygments_lexer": "ipython3",
   "version": "3.6.10"
  }
 },
 "nbformat": 4,
 "nbformat_minor": 2
}
